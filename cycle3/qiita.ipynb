{
 "cells": [
  {
   "cell_type": "code",
   "execution_count": 1,
   "metadata": {
    "collapsed": true
   },
   "outputs": [],
   "source": [
    "# qiita 記事資料\n",
    "\n",
    "import numpy as np\n",
    "import pandas as pd\n",
    "import matplotlib.pyplot as plt\n",
    "\n",
    "# sample data\n",
    "interval = 1\n",
    "upper = interval + np.random.rand(10)\n",
    "lower = - interval + np.random.rand(10)\n",
    "okng = [1] * 10 + [-1] * 10\n",
    "data = np.array([np.random.rand(20) + 10, np.hstack((upper, lower))]).T\n",
    "R = np.array([[np.pi / 3.0, np.pi / 6.0], \n",
    "              [-np.pi / 6.0, np.pi / 3.0]]).T\n",
    "rotated = np.dot(R, data.T).tolist()\n",
    "rotated.append(okng)\n",
    "r = list(map(list, zip(*rotated)))\n",
    "\n",
    "# to csv\n",
    "leaves = 'cycle3/resources/leaves_test.csv'\n",
    "# df = pd.DataFrame(data=r, columns=['length', 'width', 'label'])\n",
    "# df.to_csv(leaves, index=None)"
   ]
  },
  {
   "cell_type": "code",
   "execution_count": 2,
   "metadata": {
    "collapsed": true
   },
   "outputs": [],
   "source": [
    "# plot data from csv\n",
    "data = pd.read_csv(leaves)\n",
    "data_ok = data[data['label'] == 1]\n",
    "data_ng = data[data['label'] == -1]\n",
    "plt.plot(data_ok['length'], data_ok['width'], 'o', label='ok')\n",
    "plt.plot(data_ng['length'], data_ng['width'], 'x', label='ng')\n",
    "plt.xlabel('$x$: Length[cm]')\n",
    "plt.ylabel('$y$: Width[cm]')\n",
    "plt.show()"
   ]
  },
  {
   "cell_type": "code",
   "execution_count": 3,
   "metadata": {
    "collapsed": true
   },
   "outputs": [
    {
     "name": "stdout",
     "output_type": "stream",
     "text": [
      "[-1]\n"
     ]
    }
   ],
   "source": [
    "# scikit-learn で線形識別\n",
    "\n",
    "from sklearn.linear_model import Perceptron\n",
    "import pandas as pd\n",
    "\n",
    "data = pd.read_csv('cycle3/resources/leaves.csv')\n",
    "\n",
    "ppn = Perceptron(max_iter=20, eta0=0.1, random_state=1)\n",
    "ppn.fit(data[['length', 'width']], data['label'])\n",
    "predicted_label = ppn.predict([[11.0, 5.2]])\n",
    "print(predicted_label)"
   ]
  },
  {
   "cell_type": "code",
   "execution_count": 4,
   "metadata": {},
   "outputs": [],
   "source": [
    "# 3D plot. めちゃくちゃ重いので実行注意\n",
    "\n",
    "# import matplotlib.pyplot as plt\n",
    "# from mpl_toolkits.mplot3d import Axes3D\n",
    "# fig = plt.figure()\n",
    "# ax = fig.add_subplot(111, projection='3d')\n",
    "# ax.scatter(data_ok['length'], data_ok['width'], zs=1, zdir='z', marker='o', c='b')\n",
    "# ax.scatter(data_ng['length'], data_ng['width'], zs=1, zdir='z', marker='x', c='r')\n",
    "# ax.view_init(elev=20., azim=245)\n",
    "# ax.set_xlabel('Length: x')\n",
    "# ax.set_ylabel('Width: y')\n",
    "# ax.set_zlabel('z')\n",
    "# for spine in ax.spines.values():\n",
    "#     spine.set_visible(False)\n",
    "# plt.show()"
   ]
  }
 ],
 "metadata": {
  "kernelspec": {
   "display_name": "Python 2",
   "language": "python",
   "name": "python2"
  },
  "language_info": {
   "codemirror_mode": {
    "name": "ipython",
    "version": 2
   },
   "file_extension": ".py",
   "mimetype": "text/x-python",
   "name": "python",
   "nbconvert_exporter": "python",
   "pygments_lexer": "ipython2",
   "version": "2.7.6"
  }
 },
 "nbformat": 4,
 "nbformat_minor": 0
}
