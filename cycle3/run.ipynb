{
 "cells": [
  {
   "cell_type": "code",
   "execution_count": 2,
   "metadata": {
    "collapsed": true
   },
   "outputs": [
    {
     "name": "stdout",
     "output_type": "stream",
     "text": [
      "Prediction of leaves.csv: [1.0, 1.0, 1.0, 1.0, 1.0, 1.0, 1.0, 1.0, 1.0, 1.0, -1.0, -1.0, -1.0, -1.0, -1.0, -1.0, -1.0, -1.0, -1.0, -1.0]\nPrediction of leaves_test.csv: [1.0, 1.0, 1.0, 1.0, 1.0, 1.0, 1.0, 1.0, 1.0, 1.0, -1.0, -1.0, -1.0, -1.0, -1.0, -1.0, -1.0, -1.0, -1.0, -1.0]\nbtw, labels :\n0     1\n1     1\n2     1\n3     1\n4     1\n5     1\n6     1\n7     1\n8     1\n9     1\n10   -1\n11   -1\n12   -1\n13   -1\n14   -1\n15   -1\n16   -1\n17   -1\n18   -1\n19   -1\nName: label, dtype: int64\n"
     ]
    }
   ],
   "source": [
    "import pandas as pd\n",
    "from cycle3.my_perceptron import MyPerceptron\n",
    "\n",
    "# 学習データ準備\n",
    "data = pd.read_csv('cycle3/resources/leaves.csv')\n",
    "test_data = data[['length', 'width']]\n",
    "test_label = data['label']\n",
    "\n",
    "# 学習\n",
    "mp = MyPerceptron()\n",
    "mp.fit(test_data=test_data, test_label=test_label, itr=10, nu=0.1)\n",
    "\n",
    "# 学習データでpredict\n",
    "print('Prediction of leaves.csv: %s' % mp.predict(data=test_data))\n",
    "\n",
    "# テストデータでpredict\n",
    "data = pd.read_csv('cycle3/resources/leaves_test.csv')\n",
    "print('Prediction of leaves_test.csv: %s' % mp.predict(data=data[['length', 'width']]))\n",
    "print(\"btw, labels :\")\n",
    "print(data['label'])"
   ]
  },
  {
   "cell_type": "code",
   "execution_count": null,
   "metadata": {},
   "outputs": [],
   "source": []
  }
 ],
 "metadata": {
  "kernelspec": {
   "display_name": "Python 2",
   "language": "python",
   "name": "python2"
  },
  "language_info": {
   "codemirror_mode": {
    "name": "ipython",
    "version": 2
   },
   "file_extension": ".py",
   "mimetype": "text/x-python",
   "name": "python",
   "nbconvert_exporter": "python",
   "pygments_lexer": "ipython2",
   "version": "2.7.6"
  }
 },
 "nbformat": 4,
 "nbformat_minor": 0
}
